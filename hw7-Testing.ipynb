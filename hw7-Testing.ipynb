{
 "cells": [
  {
   "cell_type": "code",
   "execution_count": 54,
   "metadata": {
    "collapsed": true
   },
   "outputs": [],
   "source": [
    "import pandas as pd\n",
    "from citipy import citipy\n",
    "import numpy as np\n",
    "import requests as req\n",
    "from weather2 import weather"
   ]
  },
  {
   "cell_type": "code",
   "execution_count": 55,
   "metadata": {
    "collapsed": true
   },
   "outputs": [],
   "source": [
    "api_key = weather"
   ]
  },
  {
   "cell_type": "code",
   "execution_count": 56,
   "metadata": {
    "collapsed": true
   },
   "outputs": [],
   "source": [
    "lats = np.random.uniform(low=-90.000, high=90.000, size=3)\n",
    "lngs = np.random.uniform(low=-180.000, high=180.000, size=3)"
   ]
  },
  {
   "cell_type": "code",
   "execution_count": 57,
   "metadata": {},
   "outputs": [
    {
     "data": {
      "text/plain": [
       "array([ 52.40915503,  12.06800641, -11.39428075])"
      ]
     },
     "execution_count": 57,
     "metadata": {},
     "output_type": "execute_result"
    }
   ],
   "source": [
    "lats"
   ]
  },
  {
   "cell_type": "code",
   "execution_count": 58,
   "metadata": {
    "scrolled": false
   },
   "outputs": [
    {
     "data": {
      "text/plain": [
       "array([ 124.59088446,  -49.96370851,  -30.38380917])"
      ]
     },
     "execution_count": 58,
     "metadata": {},
     "output_type": "execute_result"
    }
   ],
   "source": [
    "lngs"
   ]
  },
  {
   "cell_type": "code",
   "execution_count": 59,
   "metadata": {},
   "outputs": [
    {
     "name": "stdout",
     "output_type": "stream",
     "text": [
      "http://samples.openweathermap.org/data/2.5/weather?lat=35&lon=139&appid=1ea85dc7bfe9158850a836f14383884d\n"
     ]
    }
   ],
   "source": [
    "target_url = 'http://samples.openweathermap.org/data/2.5/weather?lat=35&lon=139&appid=' + api_key\n",
    "print(target_url)"
   ]
  },
  {
   "cell_type": "code",
   "execution_count": 61,
   "metadata": {},
   "outputs": [
    {
     "name": "stdout",
     "output_type": "stream",
     "text": [
      "http://api.openweathermap.org/data/2.5/forecast?lat=52.4091550264&lon=124.590884461&units=metric&APPID=1ea85dc7bfe9158850a836f14383884d\n",
      "http://api.openweathermap.org/data/2.5/forecast?lat=12.068006407&lon=-49.9637085059&units=metric&APPID=1ea85dc7bfe9158850a836f14383884d\n",
      "http://api.openweathermap.org/data/2.5/forecast?lat=-11.3942807452&lon=-30.3838091707&units=metric&APPID=1ea85dc7bfe9158850a836f14383884d\n"
     ]
    }
   ],
   "source": [
    "for i in range(0,3):\n",
    "    \n",
    "    city = citipy.nearest_city(lats[i],lngs[i])\n",
    "    \n",
    "    # print(city.city_name)\n",
    "    # print(city.country_code)\n",
    "    params = {\n",
    "    'lat': lats[i],\n",
    "    'lon': lngs[i],\n",
    "    'units': 'metric',\n",
    "    'APPID': api_key\n",
    "    }\n",
    "    \n",
    "    base_url = \"http://api.openweathermap.org/data/2.5/forecast\"\n",
    "    response = req.get(base_url, params = params)\n",
    "    print(response.url)\n",
    "    \n",
    "    city_weather = response.json()\n",
    "    name = city.city_name\n",
    "    cloud = city_weather['list'][0]['clouds']['all']\n",
    "    country = city.country_code\n",
    "    data = city_weather['list'][0]['dt']\n",
    "    humidity = city_weather['list'][0]['main']['humidity']\n",
    "    lat = lats[i]\n",
    "    lng = lngs[i]\n",
    "    max_temp = city_weather['list'][0]['main']['temp_max']\n",
    "    wind_speed = city_weather['list'][0]['wind']['speed']\n",
    "    \n",
    "    city_data = {\n",
    "    'City':city.city_name,\n",
    "    'Cloudines': cloud,\n",
    "    'Country': city.country_code,\n",
    "    'Humidity':humidity,\n",
    "    'Lat':lats,\n",
    "    'Lng':lngs,\n",
    "    'Max Temp':max_temp,\n",
    "    'Wind Speed': wind_speed,\n",
    "    }"
   ]
  },
  {
   "cell_type": "code",
   "execution_count": 62,
   "metadata": {},
   "outputs": [
    {
     "name": "stdout",
     "output_type": "stream",
     "text": [
      "                       City  Cloudines Country  Humidity        Lat  \\\n",
      "0  sao jose da coroa grande         88      br       100  52.409155   \n",
      "1  sao jose da coroa grande         88      br       100  12.068006   \n",
      "2  sao jose da coroa grande         88      br       100 -11.394281   \n",
      "\n",
      "          Lng  Max Temp  Wind Speed  \n",
      "0  124.590884     24.97        8.85  \n",
      "1  -49.963709     24.97        8.85  \n",
      "2  -30.383809     24.97        8.85  \n"
     ]
    }
   ],
   "source": [
    "city_data = pd.DataFrame(city_data)\n",
    "print(city_data)"
   ]
  },
  {
   "cell_type": "code",
   "execution_count": null,
   "metadata": {},
   "outputs": [],
   "source": []
  },
  {
   "cell_type": "code",
   "execution_count": null,
   "metadata": {},
   "outputs": [],
   "source": []
  },
  {
   "cell_type": "code",
   "execution_count": null,
   "metadata": {},
   "outputs": [],
   "source": []
  },
  {
   "cell_type": "code",
   "execution_count": null,
   "metadata": {
    "collapsed": true
   },
   "outputs": [],
   "source": []
  },
  {
   "cell_type": "code",
   "execution_count": null,
   "metadata": {
    "collapsed": true
   },
   "outputs": [],
   "source": []
  },
  {
   "cell_type": "code",
   "execution_count": null,
   "metadata": {},
   "outputs": [],
   "source": []
  },
  {
   "cell_type": "code",
   "execution_count": null,
   "metadata": {},
   "outputs": [],
   "source": []
  },
  {
   "cell_type": "code",
   "execution_count": null,
   "metadata": {
    "collapsed": true
   },
   "outputs": [],
   "source": []
  },
  {
   "cell_type": "code",
   "execution_count": null,
   "metadata": {
    "collapsed": true
   },
   "outputs": [],
   "source": [
    "# city cloudines | country | date | humidity | lat | lng | max temp | win speed\n",
    "# name = city_weather['city']['name']\n"
   ]
  },
  {
   "cell_type": "code",
   "execution_count": null,
   "metadata": {
    "collapsed": true
   },
   "outputs": [],
   "source": []
  },
  {
   "cell_type": "code",
   "execution_count": null,
   "metadata": {
    "collapsed": true
   },
   "outputs": [],
   "source": [
    "# country = city_weather['city']['country']\n"
   ]
  },
  {
   "cell_type": "code",
   "execution_count": null,
   "metadata": {
    "collapsed": true
   },
   "outputs": [],
   "source": []
  },
  {
   "cell_type": "code",
   "execution_count": null,
   "metadata": {
    "collapsed": true
   },
   "outputs": [],
   "source": []
  },
  {
   "cell_type": "code",
   "execution_count": null,
   "metadata": {
    "collapsed": true
   },
   "outputs": [],
   "source": [
    "\n"
   ]
  },
  {
   "cell_type": "code",
   "execution_count": null,
   "metadata": {
    "collapsed": true
   },
   "outputs": [],
   "source": []
  },
  {
   "cell_type": "code",
   "execution_count": null,
   "metadata": {
    "collapsed": true
   },
   "outputs": [],
   "source": []
  },
  {
   "cell_type": "code",
   "execution_count": null,
   "metadata": {
    "collapsed": true
   },
   "outputs": [],
   "source": []
  },
  {
   "cell_type": "code",
   "execution_count": null,
   "metadata": {},
   "outputs": [],
   "source": []
  },
  {
   "cell_type": "code",
   "execution_count": null,
   "metadata": {
    "collapsed": true
   },
   "outputs": [],
   "source": []
  }
 ],
 "metadata": {
  "kernelspec": {
   "display_name": "Python 3",
   "language": "python",
   "name": "python3"
  }
 },
 "nbformat": 4,
 "nbformat_minor": 2
}
